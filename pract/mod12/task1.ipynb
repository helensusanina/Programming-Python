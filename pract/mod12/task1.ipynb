{
  "nbformat": 4,
  "nbformat_minor": 0,
  "metadata": {
    "colab": {
      "provenance": []
    },
    "kernelspec": {
      "name": "python3",
      "display_name": "Python 3"
    },
    "language_info": {
      "name": "python"
    }
  },
  "cells": [
    {
      "cell_type": "code",
      "execution_count": 41,
      "metadata": {
        "id": "WYZXKLSZ6PW_"
      },
      "outputs": [],
      "source": [
        "import sqlite3\n",
        "\n",
        "con = sqlite3.connect(\"task1.sqlite\")\n",
        "cur = con.cursor()"
      ]
    },
    {
      "cell_type": "code",
      "source": [
        "con = sqlite3.connect('task1.sqlite')\n",
        "cursor = con.cursor()\n",
        "\n",
        "cursor.execute('''CREATE TABLE actors (\n",
        "                id INTEGER PRIMARY KEY,\n",
        "                name TEXT )\n",
        "''')\n",
        "\n",
        "cursor.execute('''CREATE TABLE movies (\n",
        "                id INTEGER PRIMARY KEY,\n",
        "                title TEXT )\n",
        "''')\n",
        "\n",
        "cursor.execute('''CREATE TABLE actor_movie (\n",
        "               actor_id INTEGER,\n",
        "               movie_id INTEGER,\n",
        "               FOREIGN KEY (actor_id) REFERENCES actors(id),\n",
        "               FOREIGN KEY (movie_id) REFERENCES movies(id) )\n",
        "''')\n",
        "\n",
        "con.commit()\n",
        "con.close()"
      ],
      "metadata": {
        "id": "TdcD6IN86o9i"
      },
      "execution_count": 42,
      "outputs": []
    },
    {
      "cell_type": "code",
      "source": [
        "connect_netflix = sqlite3.connect('netflix.sqlite')\n",
        "cursor_netflix = connect_netflix.cursor()\n",
        "\n",
        "cursor_netflix.execute('select title, \"cast\" from netflix_titles')\n",
        "data = cursor_netflix.fetchall()\n",
        "\n",
        "connect_netflix.close()"
      ],
      "metadata": {
        "id": "U061h9qg68JD"
      },
      "execution_count": 43,
      "outputs": []
    },
    {
      "cell_type": "code",
      "source": [
        "data_new = []\n",
        "unique_actors = set()\n",
        "for row in data:\n",
        "    movie, cast_str = row\n",
        "    cast_str = cast_str.replace(' ,', ',').replace(', ', ',').replace('&', ',')\n",
        "    cast = cast_str.split(',')\n",
        "    unique_actors = unique_actors.union(set(cast))\n",
        "    data_new.append((movie, cast))"
      ],
      "metadata": {
        "id": "GcdTpA4c7Eov"
      },
      "execution_count": 44,
      "outputs": []
    },
    {
      "cell_type": "code",
      "source": [
        "connect_movies = sqlite3.connect('task1.sqlite')\n",
        "cursor_movies = connect_movies.cursor()\n",
        "\n",
        "for row in data_new:\n",
        "    movie, actors = row\n",
        "    cursor_movies.execute(\"INSERT INTO movies VALUES (NULL, ?)\", (movie,))\n",
        "\n",
        "connect_movies.commit()\n",
        "connect_movies.close()"
      ],
      "metadata": {
        "id": "03RLtk4H9h1j"
      },
      "execution_count": 45,
      "outputs": []
    },
    {
      "cell_type": "code",
      "source": [
        "connect_actors = sqlite3.connect('task1.sqlite')\n",
        "cursor_actors = connect_actors.cursor()\n",
        "\n",
        "for actor in unique_actors:\n",
        "    cursor_actors.execute(\"INSERT INTO actors VALUES (NULL, ?)\", (actor,))\n",
        "\n",
        "connect_actors.commit()\n",
        "connect_actors.close()"
      ],
      "metadata": {
        "id": "P63UCvsS9l9a"
      },
      "execution_count": 46,
      "outputs": []
    },
    {
      "cell_type": "code",
      "source": [
        "connect_task1 = sqlite3.connect('task1.sqlite')\n",
        "cursor = connect_task1.cursor()\n",
        "\n",
        "for i in data_new:\n",
        "    movie, actors = i\n",
        "\n",
        "    cursor.execute('SELECT id FROM movies WHERE title = ?', (movie,))\n",
        "    movie_id = cursor.fetchone()\n",
        "\n",
        "    for actor in actors:\n",
        "        cursor.execute('SELECT id FROM actors WHERE name = ?', (actor,))\n",
        "        actor_id = cursor.fetchone()\n",
        "\n",
        "        cursor.execute(\"INSERT INTO actor_movie (actor_id, movie_id) VALUES (?, ?)\", (actor_id[0], movie_id[0]))\n",
        "\n",
        "connect_task1.commit()\n",
        "connect_task1.close()"
      ],
      "metadata": {
        "id": "IA2jHmSH9pH4"
      },
      "execution_count": 47,
      "outputs": []
    },
    {
      "cell_type": "code",
      "source": [
        "con = sqlite3.connect('task1.sqlite')\n",
        "cursor = con.cursor()\n",
        "\n",
        "cursor.execute('''\n",
        "    SELECT a1.name AS actor1_name, a2.name AS actor2_name, COUNT(*) AS movies_together\n",
        "    FROM actor_movie am1\n",
        "    JOIN actor_movie am2 ON am1.movie_id = am2.movie_id AND am1.actor_id < am2.actor_id\n",
        "    JOIN actors a1 ON am1.actor_id = a1.id\n",
        "    JOIN actors a2 ON am2.actor_id = a2.id\n",
        "    GROUP BY actor1_name, actor2_name\n",
        "    ORDER BY movies_together DESC\n",
        "    LIMIT 1\n",
        "''')"
      ],
      "metadata": {
        "colab": {
          "base_uri": "https://localhost:8080/"
        },
        "id": "oWzb0Pke9sb2",
        "outputId": "cd3c3be6-c4ac-4cf9-b79e-01104e204437"
      },
      "execution_count": 48,
      "outputs": [
        {
          "output_type": "execute_result",
          "data": {
            "text/plain": [
              "<sqlite3.Cursor at 0x78efff581cc0>"
            ]
          },
          "metadata": {},
          "execution_count": 48
        }
      ]
    },
    {
      "cell_type": "code",
      "source": [
        "result = cursor.fetchone()\n",
        "print(f\"Самая часто работающая друг с другом пара актеров: {result[0]} и {result[1]}\")\n",
        "con.close"
      ],
      "metadata": {
        "colab": {
          "base_uri": "https://localhost:8080/"
        },
        "id": "ElJ6F3c2-GDR",
        "outputId": "5e070855-6ead-427b-9de7-338344520687"
      },
      "execution_count": 49,
      "outputs": [
        {
          "output_type": "stream",
          "name": "stdout",
          "text": [
            "Самая часто работающая друг с другом пара актеров: Robb Wells и John Paul Tremblay\n"
          ]
        },
        {
          "output_type": "execute_result",
          "data": {
            "text/plain": [
              "<function Connection.close()>"
            ]
          },
          "metadata": {},
          "execution_count": 49
        }
      ]
    }
  ]
}
